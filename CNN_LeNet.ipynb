{
  "cells": [
    {
      "cell_type": "markdown",
      "metadata": {
        "id": "EEn7z8V66Srl"
      },
      "source": [
        "# 1. INTRODUCTION\n",
        "\n",
        "The Coursework focuses on exploring the application of Convolutional Neural Networks (CNN) for Image Classification.\n",
        "\n",
        "Convolutional neural networks (CNNs) are a form of neural network that excels at picture categorization and recognition. They are intended to handle data having a grid-like structure, such as photographs, and are especially good at finding patterns and features in images.\n",
        "\n",
        "CNNs are made up of numerous layers of linked nodes, with each layer processing data in a unique way. The layers are widely divided into three types:\n",
        "\n",
        "1. Convolutional layers perform a convolution operation to the input data, which entails sliding a kernel (also known as a filter) across the input and computing dot products between the kernel's entries and the input. This procedure assists the network in learning local patterns in the data.\n",
        "\n",
        "2. Pooling layers: These layers degrade data spatial resolution by performing a pooling operation, which commonly entails taking the maximum or average value of a set of nearby pixels. This reduces the complexity of the data and makes the network more resistant to tiny changes in the input.\n",
        "\n",
        "3. Layers that are completely connected: These layers connect every neuron in the previous layer to every neuron in the current layer.\n",
        "\n"
      ]
    },
    {
      "cell_type": "markdown",
      "metadata": {
        "id": "tZoh5noDmx1L"
      },
      "source": [
        "To begin with the project, we will have to import all necessary modules. By standard, it is advisable to import the modules in a cell"
      ]
    },
    {
      "cell_type": "code",
      "execution_count": null,
      "metadata": {
        "id": "d0qCGmEltNJ0"
      },
      "outputs": [],
      "source": [
        "## MNIST classification using LeNet\n",
        "'''\n",
        "The MNIST database (Modified National Institute of Standards and Technology database[1]) \n",
        "is a large database of handwritten digits that is commonly used for training various image processing systems\n",
        "\n",
        "The LeNet architecture is straightforward and small, \n",
        "(in terms of memory footprint), making it perfect for teaching the basics of CNNs — \n",
        "it can even run on the CPU (if your system does not have a suitable GPU), making it a great “first CNN”.\n",
        "'''\n",
        "# import the libraries\n",
        "from keras.datasets.mnist import load_data\n",
        "import numpy as np\n",
        "from sklearn.model_selection import train_test_split\n",
        "from keras.utils import to_categorical\n",
        "\n",
        "import pandas as pd\n",
        "import numpy as np\n",
        "import matplotlib.pyplot as plt\n",
        "%matplotlib inline\n",
        "import tensorflow as tf\n",
        "import warnings\n",
        "warnings.filterwarnings('ignore')\n",
        "from tensorflow.python.framework import ops"
      ]
    },
    {
      "cell_type": "code",
      "execution_count": null,
      "metadata": {
        "id": "Pt9gw0rlu1Eu"
      },
      "outputs": [],
      "source": [
        "# load the data - it returns 2 tuples of digits & labels - one for\n",
        "# the train set & the other for the test set\n",
        "\n",
        "(train_digits, train_labels), (test_digits, test_labels) = load_data()\n",
        "#  some variables...\n",
        "image_height = train_digits.shape[1]  \n",
        "image_width = train_digits.shape[2]\n",
        "num_channels = 1  \n",
        "# we have grayscale images\n",
        "# NOTE: image_height == image_width == 28\n",
        "# re-shape the images data\n",
        "\n",
        "\n",
        "train_data = np.reshape(train_digits, (train_digits.shape[0], image_height, image_width, num_channels))\n",
        "test_data = np.reshape(test_digits, (test_digits.shape[0],image_height, image_width, num_channels))\n",
        "\n",
        "# re-scale the image data to values between [0,1]\n",
        "train_data = train_data.astype('float32') / 255.\n",
        "test_data = test_data.astype('float32') / 255.\n",
        "\n",
        "# one-hot encode the labels - we have 10 output classes\n",
        "\n",
        "# so 3 -> [0 0 0 1 0 0 0 0 0 0], 5 -> [0 0 0 0 0 1 0 0 0 0] & so on\n",
        "num_classes = 10\n",
        "train_labels_cat = to_categorical(train_labels,num_classes)\n",
        "test_labels_cat = to_categorical(test_labels,num_classes)\n",
        "\n",
        "# split training set into training and validation\n",
        "train_data2, val_data,train_labels_cat2,  val_labels = train_test_split(train_data, train_labels_cat, test_size=0.1)"
      ]
    },
    {
      "cell_type": "markdown",
      "metadata": {
        "id": "inCXmNkRxRbq"
      },
      "source": [
        "## LeNet Algorithm\n",
        "LeNet (or LeNet-5) is a convolutional neural network structure proposed by Yann LeCun, Léon Bottou, Yoshua Bengio, and Patrick Haffner in 1989.\n",
        "\n",
        "I. Architecture\n",
        "LeNet consists of 2 parts:\n",
        "\n",
        "The first part includes two convolutional layers and two pooling layers which are placed alternatively.\n",
        "The second part consists of three fully connected layers.\n",
        "\n",
        "The input is images of size 28 × 28\n",
        "\n",
        "C1 is the first convolutional layer with 6 convolution kernels of size 5× 5.\n",
        "\n",
        "S2 is the pooling layer that outputs 6 channels of 14 × 14 images. The pooling window size, in this case, is a square matrix of size 2 × 2.\n",
        "\n",
        "C3 is a convolutional layer with 16 convolution kernels of size 5 × 5. Hence, the output of this layer is 16 feature images of size 10 × 10.\n",
        "\n",
        "S4 is a pooling layer with a pooling window of size 2 × 2. Hence, the dimension of images through this layer is halved, it outputs 16 feature images of size 5 × 5.\n",
        "\n",
        "C5 is the convolutional layer with 120 convolution kernels of size 5 × 5. Since the inputs of this layer have the same size as the kernel, then the output size of this layer is 1 × 1. The number of channels in output equals the channel number of kernels, which is 120. Hence the output of this layer is 120 feature images of size 1 × 1.\n",
        "\n",
        "F6 is a fully connected layer with 84 neurons which are all connected to the output of C5.\n",
        "\n",
        "The output layer consists of 10 neurons corresponding to the number of classes (numbers from 0 to 9)."
      ]
    },
    {
      "cell_type": "code",
      "execution_count": null,
      "metadata": {
        "colab": {
          "base_uri": "https://localhost:8080/"
        },
        "id": "1pp5DZVnxqdl",
        "outputId": "2a0d3de6-04d8-45c5-a047-628d6828d9f0"
      },
      "outputs": [
        {
          "name": "stdout",
          "output_type": "stream",
          "text": [
            "X_train shape (60000, 28, 28) X_test shape (10000, 28, 28)\n"
          ]
        }
      ],
      "source": [
        "'''\n",
        "The code is used to load the MNIST DATASET and print the shape of the training and test data.\n",
        "The script first imports the mnist module from keras.datasets and then calls the load_data function to load the dataset.\n",
        "The load_data function returns a tuple with the training and test data and labels, which are stored in the variables X_train, y_train, X_test, and y_test, respectively.\n",
        "The script then prints the shape of the training and test data using the shape attribute of the numpy arrays. \n",
        "The shape of the data is a tuple with three elements: the number of samples, the height, and the width of the images.\n",
        " For example, if the shape of the training data is (60000, 28, 28), this means that the training data consists of 60000 images with a height of 28 pixels and a width of 28 pixels.\n",
        "'''\n",
        "from keras.datasets import mnist\n",
        "(X_train, y_train), (X_test, y_test) = mnist.load_data()\n",
        "print('X_train shape', X_train.shape, 'X_test shape', X_test.shape)"
      ]
    },
    {
      "cell_type": "code",
      "execution_count": null,
      "metadata": {
        "colab": {
          "base_uri": "https://localhost:8080/",
          "height": 321
        },
        "id": "JmIqbO0ZyTdI",
        "outputId": "e03a6407-f4fd-448c-c744-b8106df20e52"
      },
      "outputs": [
        {
          "data": {
            "image/png": "[encoded data removed]",
            "text/plain": [
              "<Figure size 1080x360 with 8 Axes>"
            ]
          },
          "metadata": {
            "needs_background": "light"
          },
          "output_type": "display_data"
        }
      ],
      "source": [
        "'''\n",
        "The code displays 8 random images from the dataset using matplotlib library to plot the images and the random module to select the images randomly.\n",
        "The script first creates a figure with a specified size using the plt.figure function from matplotlib. \n",
        "It then iterates over a range of 8 using a for loop and selects a random index using the random.randint function. \n",
        "The plt.subplot function is used to create a subplot for each image, and the plt.imshow function is used to display the image.\n",
        "This code can be used to visualize a dataset and get a sense of the type of images it contains\n",
        "'''\n",
        "import matplotlib.pyplot as plt \n",
        "import random\n",
        "plt.figure(figsize = (15,5))\n",
        "for i in range(8):\n",
        "  ind = random.randint(0, len(X_train))\n",
        "  plt.subplot(240+1+i)\n",
        "  plt.imshow(X_train[ind])"
      ]
    },
    {
      "attachments": {},
      "cell_type": "markdown",
      "metadata": {},
      "source": [
        "The function 'preprocess_data' defined below is a Python function that preprocesses the input data for a machine learning model. The function takes four arguments: X_train, y_train, X_test, and y_test, which represent the training and test data and labels, respectively.\n",
        "\n",
        "The function first reshapes the input data using the reshape function from numpy. This is necessary because the input data is expected to have a certain shape, depending on the model being used. In this case, the input data is reshaped to have four dimensions, with the first dimension representing the number of samples, the second and third dimensions representing the height and width of the input images, and the fourth dimension representing the number of channels.\n",
        "\n",
        "The function then converts the data to the float32 data type using the astype function from numpy. This is necessary because many machine learning models expect the input data to be in this format.\n",
        "\n",
        "The function then normalizes the data by dividing each element by 255.0. Normalizing the data can help improve the performance of the model by scaling the input features to a common range.\n",
        "\n",
        "Finally, the function converts the labels to categorical format using the to_categorical function from keras.utils. This function converts a class vector (integers) to binary class matrix."
      ]
    },
    {
      "cell_type": "code",
      "execution_count": null,
      "metadata": {
        "id": "wanlXRWLyXFV"
      },
      "outputs": [],
      "source": [
        "# Data Preprocessing\n",
        "\n",
        "from keras.utils import to_categorical\n",
        "def preprocess_data(X_train, y_train, X_test, y_test):\n",
        "  # reshape images to the required size of Keras\n",
        "  X_train = X_train.reshape(X_train.shape[0], X_train.shape[1], X_train.shape[2], 1)\n",
        "  X_test = X_test.reshape(X_test.shape[0], X_test.shape[1], X_test.shape[2], 1)\n",
        "  \n",
        "  # convert image values from integers to floats\n",
        "  X_train = X_train.astype('float32')\n",
        "  X_test = X_test.astype('float32')\n",
        "  \n",
        "  # normalization\n",
        "  X_train = X_train/255.0\n",
        "  X_test_norm = X_test/255.0\n",
        "  \n",
        "  # One-hot encoding label \n",
        "  y_train = to_categorical(y_train)\n",
        "  y_test = to_categorical(y_test)\n",
        "  \n",
        "  return X_train, y_train, X_test, y_test"
      ]
    },
    {
      "attachments": {},
      "cell_type": "markdown",
      "metadata": {},
      "source": [
        "The function 'LeNet' defined below is a Python function that defines a convolutional neural network (CNN) model using the keras library. The model is based on the LeNet architecture.\n",
        "\n",
        "The model is defined using the Sequential model from keras, which allows you to define a linear stack of layers. The model starts with two convolutional layers, each followed by a max pooling layer. The convolutional layers use the Conv2D function from keras and have a kernel size of (5,5), a padding of 'same', and a ReLU activation function. The max pooling layers use the MaxPooling2D function and have a pool size of (2,2).\n",
        "\n",
        "After the convolutional and pooling layers, the model flattens the output using the Flatten function and adds two dense layers using the Dense function. The first dense layer has 120 units and uses a ReLU activation function, while the second dense layer has 10 units and uses a softmax activation function. This final layer is used for classification, with each unit representing a different class."
      ]
    },
    {
      "cell_type": "code",
      "execution_count": null,
      "metadata": {
        "id": "0g5_mPS1ysq3"
      },
      "outputs": [],
      "source": [
        "## Build Lenet Model\n",
        "\n",
        "from keras.models import Sequential\n",
        "from keras.layers import Conv2D, MaxPooling2D, Dense, Flatten\n",
        "from keras.optimizers import SGD\n",
        "# metrics \n",
        "from keras.metrics import categorical_crossentropy\n",
        "# optimization method\n",
        "from keras.optimizers import SGD\n",
        "\n",
        "def LeNet():\n",
        "  model = Sequential()\n",
        "  \n",
        "  # Convolutional layer  \n",
        "  model.add(Conv2D(filters = 6, kernel_size = (5,5), padding = 'same', \n",
        "                   activation = 'relu', input_shape = (28,28,1)))\n",
        "  \n",
        "  # Max-pooing layer with pooling window size is 2x2\n",
        "  model.add(MaxPooling2D(pool_size = (2,2)))\n",
        "  \n",
        "  # Convolutional layer \n",
        "  model.add(Conv2D(filters = 16, kernel_size = (5,5), activation = 'relu'))\n",
        "  \n",
        "  # Max-pooling layer \n",
        "  model.add(MaxPooling2D(pool_size = (2,2)))\n",
        "  \n",
        "  # Flatten layer \n",
        "  model.add(Flatten())\n",
        "  \n",
        "  # The first fully connected layer \n",
        "  model.add(Dense(120, activation = 'relu'))\n",
        "  \n",
        "  # The output layer  \n",
        "  model.add(Dense(10, activation = 'softmax'))\n",
        "  \n",
        "  # compile the model with a loss function, a metric and an optimizer function\n",
        "  # In this case, the loss function is categorical crossentropy, \n",
        "  # we use Stochastic Gradient Descent (SGD) method with learning rate lr = 0.01 \n",
        "    #to optimize the loss function\n",
        "  # metric: accuracy \n",
        "  \n",
        "  opt = SGD(lr = 0.01)\n",
        "  model.compile(loss = categorical_crossentropy, \n",
        "                optimizer = opt, \n",
        "                metrics = ['accuracy']) \n",
        "                \n",
        "  return model\n",
        "model = LeNet()"
      ]
    },
    {
      "attachments": {},
      "cell_type": "markdown",
      "metadata": {},
      "source": [
        "The function 'summary_history' defined below is a Python function that plots the training and validation accuracy of a machine learning model over time. The input to the function is a history object, which is a record of the training and validation accuracy during model training. \n",
        "\n",
        "The function first creates a new figure with a specified size using the plt.figure function from the matplotlib library. It then plots the training accuracy and validation accuracy using the plt.plot function, with the training accuracy plotted in blue and the validation accuracy plotted in red. The plt.legend function is used to add a legend to the plot, and the plt.title function is used to add a title to the plot. Finally, the plt.show function is used to display the plot.\n",
        "\n",
        "\n",
        "\n",
        "\n",
        "\n",
        "\n",
        "\n",
        "\n"
      ]
    },
    {
      "cell_type": "code",
      "execution_count": null,
      "metadata": {
        "colab": {
          "base_uri": "https://localhost:8080/",
          "height": 1000
        },
        "id": "A037t1-Xy7VI",
        "outputId": "6c552f4b-0b1f-4ed7-a097-c7ebc59a6770"
      },
      "outputs": [
        {
          "name": "stdout",
          "output_type": "stream",
          "text": [
            "Epoch 1/50\n",
            "468/468 [==============================] - 10s 5ms/step - loss: 1.0887 - accuracy: 0.6826 - val_loss: 36.7868 - val_accuracy: 0.9098\n",
            "Epoch 2/50\n",
            "468/468 [==============================] - 2s 4ms/step - loss: 0.2769 - accuracy: 0.9182 - val_loss: 26.8750 - val_accuracy: 0.9381\n",
            "Epoch 3/50\n",
            "468/468 [==============================] - 2s 4ms/step - loss: 0.2003 - accuracy: 0.9404 - val_loss: 20.2319 - val_accuracy: 0.9546\n",
            "Epoch 4/50\n",
            "468/468 [==============================] - 2s 4ms/step - loss: 0.1628 - accuracy: 0.9513 - val_loss: 18.9170 - val_accuracy: 0.9599\n",
            "Epoch 5/50\n",
            "468/468 [==============================] - 2s 4ms/step - loss: 0.1391 - accuracy: 0.9590 - val_loss: 14.9481 - val_accuracy: 0.9642\n",
            "Epoch 6/50\n",
            "468/468 [==============================] - 3s 6ms/step - loss: 0.1231 - accuracy: 0.9640 - val_loss: 14.1827 - val_accuracy: 0.9674\n",
            "Epoch 7/50\n",
            "468/468 [==============================] - 3s 6ms/step - loss: 0.1108 - accuracy: 0.9676 - val_loss: 12.4335 - val_accuracy: 0.9696\n",
            "Epoch 8/50\n",
            "468/468 [==============================] - 2s 4ms/step - loss: 0.1007 - accuracy: 0.9703 - val_loss: 13.0963 - val_accuracy: 0.9727\n",
            "Epoch 9/50\n",
            "468/468 [==============================] - 2s 4ms/step - loss: 0.0933 - accuracy: 0.9722 - val_loss: 10.7578 - val_accuracy: 0.9752\n",
            "Epoch 10/50\n",
            "468/468 [==============================] - 3s 6ms/step - loss: 0.0883 - accuracy: 0.9738 - val_loss: 10.0226 - val_accuracy: 0.9764\n",
            "Epoch 11/50\n",
            "468/468 [==============================] - 2s 4ms/step - loss: 0.0834 - accuracy: 0.9753 - val_loss: 10.0446 - val_accuracy: 0.9760\n",
            "Epoch 12/50\n",
            "468/468 [==============================] - 2s 4ms/step - loss: 0.0788 - accuracy: 0.9769 - val_loss: 9.1698 - val_accuracy: 0.9789\n",
            "Epoch 13/50\n",
            "468/468 [==============================] - 2s 4ms/step - loss: 0.0741 - accuracy: 0.9779 - val_loss: 8.2445 - val_accuracy: 0.9811\n",
            "Epoch 14/50\n",
            "468/468 [==============================] - 2s 4ms/step - loss: 0.0702 - accuracy: 0.9788 - val_loss: 8.7217 - val_accuracy: 0.9788\n",
            "Epoch 15/50\n",
            "468/468 [==============================] - 2s 4ms/step - loss: 0.0681 - accuracy: 0.9795 - val_loss: 9.6095 - val_accuracy: 0.9806\n",
            "Epoch 16/50\n",
            "468/468 [==============================] - 2s 4ms/step - loss: 0.0655 - accuracy: 0.9804 - val_loss: 10.1885 - val_accuracy: 0.9762\n",
            "Epoch 17/50\n",
            "468/468 [==============================] - 2s 4ms/step - loss: 0.0619 - accuracy: 0.9811 - val_loss: 8.5008 - val_accuracy: 0.9820\n",
            "Epoch 18/50\n",
            "468/468 [==============================] - 2s 4ms/step - loss: 0.0611 - accuracy: 0.9813 - val_loss: 8.3107 - val_accuracy: 0.9813\n",
            "Epoch 19/50\n",
            "468/468 [==============================] - 2s 4ms/step - loss: 0.0574 - accuracy: 0.9829 - val_loss: 9.2712 - val_accuracy: 0.9799\n",
            "Epoch 20/50\n",
            "468/468 [==============================] - 2s 4ms/step - loss: 0.0571 - accuracy: 0.9827 - val_loss: 7.9231 - val_accuracy: 0.9820\n",
            "Epoch 21/50\n",
            "468/468 [==============================] - 2s 5ms/step - loss: 0.0542 - accuracy: 0.9832 - val_loss: 7.7049 - val_accuracy: 0.9834\n",
            "Epoch 22/50\n",
            "468/468 [==============================] - 2s 4ms/step - loss: 0.0540 - accuracy: 0.9837 - val_loss: 7.0909 - val_accuracy: 0.9836\n",
            "Epoch 23/50\n",
            "468/468 [==============================] - 2s 4ms/step - loss: 0.0508 - accuracy: 0.9843 - val_loss: 7.4686 - val_accuracy: 0.9841\n",
            "Epoch 24/50\n",
            "468/468 [==============================] - 2s 4ms/step - loss: 0.0493 - accuracy: 0.9849 - val_loss: 8.2815 - val_accuracy: 0.9825\n",
            "Epoch 25/50\n",
            "468/468 [==============================] - 2s 4ms/step - loss: 0.0494 - accuracy: 0.9853 - val_loss: 9.0583 - val_accuracy: 0.9806\n",
            "Epoch 26/50\n",
            "468/468 [==============================] - 2s 4ms/step - loss: 0.0474 - accuracy: 0.9856 - val_loss: 7.2064 - val_accuracy: 0.9852\n",
            "Epoch 27/50\n",
            "468/468 [==============================] - 2s 4ms/step - loss: 0.0452 - accuracy: 0.9863 - val_loss: 7.2168 - val_accuracy: 0.9849\n",
            "Epoch 28/50\n",
            "468/468 [==============================] - 2s 5ms/step - loss: 0.0438 - accuracy: 0.9868 - val_loss: 7.4956 - val_accuracy: 0.9845\n",
            "Epoch 29/50\n",
            "468/468 [==============================] - 2s 4ms/step - loss: 0.0436 - accuracy: 0.9869 - val_loss: 9.3106 - val_accuracy: 0.9808\n",
            "Epoch 30/50\n",
            "468/468 [==============================] - 2s 5ms/step - loss: 0.0430 - accuracy: 0.9869 - val_loss: 8.5651 - val_accuracy: 0.9820\n",
            "Epoch 31/50\n",
            "468/468 [==============================] - 2s 4ms/step - loss: 0.0417 - accuracy: 0.9873 - val_loss: 6.6603 - val_accuracy: 0.9854\n",
            "Epoch 32/50\n",
            "468/468 [==============================] - 2s 4ms/step - loss: 0.0406 - accuracy: 0.9880 - val_loss: 7.1085 - val_accuracy: 0.9852\n",
            "Epoch 33/50\n",
            "468/468 [==============================] - 2s 4ms/step - loss: 0.0395 - accuracy: 0.9880 - val_loss: 7.8644 - val_accuracy: 0.9850\n",
            "Epoch 34/50\n",
            "468/468 [==============================] - 2s 4ms/step - loss: 0.0389 - accuracy: 0.9881 - val_loss: 6.5962 - val_accuracy: 0.9868\n",
            "Epoch 35/50\n",
            "468/468 [==============================] - 2s 4ms/step - loss: 0.0366 - accuracy: 0.9885 - val_loss: 7.3205 - val_accuracy: 0.9851\n",
            "Epoch 36/50\n",
            "468/468 [==============================] - 2s 4ms/step - loss: 0.0366 - accuracy: 0.9885 - val_loss: 6.7215 - val_accuracy: 0.9856\n",
            "Epoch 37/50\n",
            "468/468 [==============================] - 2s 4ms/step - loss: 0.0367 - accuracy: 0.9887 - val_loss: 7.8064 - val_accuracy: 0.9846\n",
            "Epoch 38/50\n",
            "468/468 [==============================] - 2s 4ms/step - loss: 0.0346 - accuracy: 0.9893 - val_loss: 7.1960 - val_accuracy: 0.9857\n",
            "Epoch 39/50\n",
            "468/468 [==============================] - 2s 4ms/step - loss: 0.0351 - accuracy: 0.9891 - val_loss: 7.4800 - val_accuracy: 0.9846\n",
            "Epoch 40/50\n",
            "468/468 [==============================] - 2s 4ms/step - loss: 0.0332 - accuracy: 0.9896 - val_loss: 6.7795 - val_accuracy: 0.9865\n",
            "Epoch 41/50\n",
            "468/468 [==============================] - 2s 4ms/step - loss: 0.0334 - accuracy: 0.9896 - val_loss: 6.4827 - val_accuracy: 0.9868\n",
            "Epoch 42/50\n",
            "468/468 [==============================] - 2s 4ms/step - loss: 0.0331 - accuracy: 0.9896 - val_loss: 7.2416 - val_accuracy: 0.9855\n",
            "Epoch 43/50\n",
            "468/468 [==============================] - 3s 6ms/step - loss: 0.0319 - accuracy: 0.9900 - val_loss: 6.3714 - val_accuracy: 0.9870\n",
            "Epoch 44/50\n",
            "468/468 [==============================] - 3s 5ms/step - loss: 0.0312 - accuracy: 0.9907 - val_loss: 7.2859 - val_accuracy: 0.9857\n",
            "Epoch 45/50\n",
            "468/468 [==============================] - 2s 4ms/step - loss: 0.0301 - accuracy: 0.9909 - val_loss: 6.4948 - val_accuracy: 0.9871\n",
            "Epoch 46/50\n",
            "468/468 [==============================] - 2s 4ms/step - loss: 0.0304 - accuracy: 0.9905 - val_loss: 7.3486 - val_accuracy: 0.9857\n",
            "Epoch 47/50\n",
            "468/468 [==============================] - 2s 4ms/step - loss: 0.0295 - accuracy: 0.9909 - val_loss: 6.9789 - val_accuracy: 0.9870\n",
            "Epoch 48/50\n",
            "468/468 [==============================] - 2s 4ms/step - loss: 0.0285 - accuracy: 0.9909 - val_loss: 6.7676 - val_accuracy: 0.9869\n",
            "Epoch 49/50\n",
            "468/468 [==============================] - 2s 4ms/step - loss: 0.0290 - accuracy: 0.9910 - val_loss: 7.0676 - val_accuracy: 0.9854\n",
            "Epoch 50/50\n",
            "468/468 [==============================] - 2s 4ms/step - loss: 0.0273 - accuracy: 0.9918 - val_loss: 7.3530 - val_accuracy: 0.9860\n",
            "313/313 [==============================] - 1s 3ms/step - loss: 7.3412 - accuracy: 0.9860\n",
            "98.600\n"
          ]
        },
        {
          "data": {
            "image/png": "[encoded data removed]",
            "text/plain": [
              "<Figure size 720x432 with 1 Axes>"
            ]
          },
          "metadata": {
            "needs_background": "light"
          },
          "output_type": "display_data"
        },
        {
          "name": "stdout",
          "output_type": "stream",
          "text": [
            "it took 144.1908473968506 to train the LeNet model\n"
          ]
        }
      ],
      "source": [
        "def summary_history(history):\n",
        "  plt.figure(figsize = (10,6))\n",
        "  plt.plot(history.history['accuracy'], color = 'blue', label = 'train')\n",
        "  plt.plot(history.history['val_accuracy'], color = 'red', label = 'val')\n",
        "  plt.legend()\n",
        "  plt.title('Accuracy')\n",
        "  plt.show()\n",
        "\n",
        "# import the builtin time module\n",
        "import time\n",
        "\n",
        "# Grab Currrent Time Before Running the Code\n",
        "start = time.time()\n",
        "\n",
        "def train_model(model, X_train, y_train, X_test, y_test, epochs = 50, batch_size = 128):\n",
        "  # Rescaling all training and testing data\n",
        "\n",
        "\n",
        "  X_train, y_train, X_test, y_test = preprocess_data(X_train, y_train, X_test, y_test)\n",
        "  # Fitting the model on the training set\n",
        "  history = model.fit(X_train, y_train, epochs = epochs, batch_size = batch_size, \n",
        "                      steps_per_epoch = X_train.shape[0]//batch_size, \n",
        "                      validation_data = (X_test, y_test), \n",
        "                      validation_steps = X_test.shape[0]//batch_size, verbose = 1)\n",
        " \n",
        " \n",
        "  # evaluating the model\n",
        "  _, acc = model.evaluate(X_test, y_test, verbose = 1)\n",
        "  print('%.3f' % (acc * 100.0))\n",
        "  summary_history(history)\n",
        "\n",
        "# import the builtin time module\n",
        "import time\n",
        "\n",
        "# Grab Currrent Time Before Running the Code\n",
        "start = time.time()\n",
        "\n",
        "train_model(model,X_train, y_train, X_test, y_test)\n",
        "\n",
        "# Grab Currrent Time After Running the Code\n",
        "end = time.time()\n",
        "\n",
        "#Subtract Start Time from The End Time\n",
        "total_time = end - start\n",
        "print(f'it took {total_time} to train the LeNet model')"
      ]
    },
    {
      "cell_type": "markdown",
      "metadata": {
        "id": "Yx7q-Qkbwq2x"
      },
      "source": [
        "## Summary\n",
        "\n",
        "Accuracy : 98.60\n",
        "\n",
        "It took 144.19 sec to train the MNIST data using the LeNet architecture\n",
        "\n"
      ]
    },
    {
      "cell_type": "code",
      "execution_count": null,
      "metadata": {
        "id": "zzTYJ2aXcmgs"
      },
      "outputs": [],
      "source": [
        "# Refrence\n",
        "'''\n",
        "Le Cun, Y., Boser, B., Denker, J. S., Henderson, D., Howard, R. E., Hubbard, W., & Jackel, L. D. (1989, January). Handwritten digit recognition with a back-propagation network. In Proceedings of the 2nd International Conference on Neural Information Processing Systems (pp. 396–404).\n",
        "'''"
      ]
    }
  ],
  "metadata": {
    "accelerator": "GPU",
    "colab": {
      "provenance": []
    },
    "gpuClass": "standard",
    "kernelspec": {
      "display_name": "Python 3",
      "language": "python",
      "name": "python3"
    },
    "language_info": {
      "name": "python",
      "version": "3.10.8 (tags/v3.10.8:aaaf517, Oct 11 2022, 16:50:30) [MSC v.1933 64 bit (AMD64)]"
    },
    "vscode": {
      "interpreter": {
        "hash": "3d7cb081aa8a0b61d41e522b3c7782fb0e05b778bf3d6ec8f45e4b01abfead13"
      }
    }
  },
  "nbformat": 4,
  "nbformat_minor": 0
}
